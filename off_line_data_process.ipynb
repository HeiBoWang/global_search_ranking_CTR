{
 "cells": [
  {
   "cell_type": "markdown",
   "id": "b07a9e68-623f-41b7-8e3b-db96feaeecbb",
   "metadata": {},
   "source": [
    "## 特征表分析"
   ]
  },
  {
   "cell_type": "code",
   "execution_count": null,
   "id": "457f3e18-68af-4cfa-a111-38998179585f",
   "metadata": {},
   "outputs": [],
   "source": []
  },
  {
   "cell_type": "code",
   "execution_count": null,
   "id": "9ee65fcf-15a6-4663-8fe4-a18af0eeabeb",
   "metadata": {},
   "outputs": [],
   "source": []
  },
  {
   "cell_type": "code",
   "execution_count": null,
   "id": "96832526-4d23-4044-8aeb-b891a6edc07d",
   "metadata": {},
   "outputs": [],
   "source": []
  },
  {
   "cell_type": "code",
   "execution_count": null,
   "id": "7b006393-ed45-4b45-8326-b488b56a5a75",
   "metadata": {},
   "outputs": [],
   "source": []
  },
  {
   "cell_type": "code",
   "execution_count": null,
   "id": "72f11b35-67a7-4edf-8a25-adaf34401a73",
   "metadata": {},
   "outputs": [],
   "source": []
  },
  {
   "cell_type": "markdown",
   "id": "acd74488-7867-495e-9fbd-c9149ec698cd",
   "metadata": {},
   "source": [
    "## 日期分割"
   ]
  },
  {
   "cell_type": "code",
   "execution_count": 171,
   "id": "48c4a92a-ad78-4e9c-915f-682ed5a8235c",
   "metadata": {},
   "outputs": [],
   "source": [
    "conn = hive.Connection(host='172.30.2.60', port=10000, database='recsys')\n",
    "train_sql = \"\"\"select * from recsys.search_full_link_30d limit 1000\"\"\"\n",
    "train_data = pd.read_sql(train_sql, conn)\n",
    "\n",
    "train_data['search_full_link_30d.log_date'].min()\n",
    "df3 = train_data.where(train_data['search_full_link_30d.log_date'] <= out_date)\n",
    "\n",
    "df4 = df3.dropna(how='all')"
   ]
  },
  {
   "cell_type": "markdown",
   "id": "49de26f3-072d-467c-8d76-337ee018b0a3",
   "metadata": {},
   "source": [
    "# 数据准备"
   ]
  },
  {
   "cell_type": "code",
   "execution_count": 62,
   "id": "9072694a-538c-44b1-81a5-1fe3b1342e6c",
   "metadata": {},
   "outputs": [],
   "source": [
    "from pyhive import hive\n",
    "import pandas as pd\n",
    "conn = hive.Connection(host='172.30.2.60', port=10000, database='recsys')"
   ]
  },
  {
   "cell_type": "markdown",
   "id": "09212a81-0113-487a-aff2-2ed82c2ff65c",
   "metadata": {},
   "source": [
    "# 搜索日志表"
   ]
  },
  {
   "cell_type": "code",
   "execution_count": 26,
   "id": "f5a582ae-f6ff-4a8c-a77b-be47a4629926",
   "metadata": {},
   "outputs": [],
   "source": [
    "trace_log_sql = \"\"\"select user_id, resource_id, resource_type, sum(if(action_code=1001,1,0)) as click\n",
    "from recsys.recommend_event_trace_log where log_date = '2022-11-06' and event_code = '143001' \n",
    "group by  user_id, resource_id, resource_type\n",
    "limit 10\"\"\"\n",
    "trace_log = pd.read_sql(trace_log_sql, conn)"
   ]
  },
  {
   "cell_type": "markdown",
   "id": "489c8976-c760-44da-ae4a-89a87645b11e",
   "metadata": {},
   "source": [
    "# 物料表"
   ]
  },
  {
   "cell_type": "code",
   "execution_count": 32,
   "id": "e9fe63bb-ce0b-49e9-be40-a6979aea95b8",
   "metadata": {},
   "outputs": [],
   "source": [
    "resource_sql = \"\"\"\n",
    "select resource_id, resource_type,total_show,total_click,total_share,total_vote,total_collection,total_comment\n",
    "from recsys.dim_resource where log_date = '2022-11-06'\n",
    "limit 10\"\"\"\n",
    "resource_log = pd.read_sql(resource_sql, conn)"
   ]
  },
  {
   "cell_type": "markdown",
   "id": "81ab0728-8d19-4e2e-8edc-84888db9ab70",
   "metadata": {},
   "source": [
    "# 用户表"
   ]
  },
  {
   "cell_type": "code",
   "execution_count": 101,
   "id": "b65c9506-2303-4882-9fb6-02ee8042b11a",
   "metadata": {},
   "outputs": [],
   "source": [
    "user_sql = \"\"\"\n",
    "select resource_type,sum(total_show)\n",
    "    from recsys.dim_resource where log_date = '2022-11-06'\n",
    "    group by resource_type\n",
    "limit 10\"\"\"\n",
    "user_log = pd.read_sql(user_sql, conn)"
   ]
  },
  {
   "cell_type": "code",
   "execution_count": 99,
   "id": "23e608df-de8b-4bac-a808-2c22746d5c60",
   "metadata": {},
   "outputs": [],
   "source": [
    "user_sql = \"\"\"\n",
    "select resource_id, resource_type,total_show,total_click,total_share,total_vote,total_collection,total_comment\n",
    "    from recsys.dim_resource where log_date = '2022-11-06' and resource_type=''\n",
    "limit 10\"\"\"\n",
    "user_log = pd.read_sql(user_sql, conn)"
   ]
  },
  {
   "cell_type": "code",
   "execution_count": null,
   "id": "8577616a-ca93-4252-8152-d9a81c183987",
   "metadata": {},
   "outputs": [],
   "source": []
  },
  {
   "cell_type": "markdown",
   "id": "8d4cb3ba-780e-489f-9fad-deaef3a0eaa2",
   "metadata": {},
   "source": [
    "# 流量表 left join 物料  left join 用户表"
   ]
  },
  {
   "cell_type": "code",
   "execution_count": 85,
   "id": "fbf0bf25-8787-41c7-b8c9-8e22478f4822",
   "metadata": {
    "collapsed": true,
    "jupyter": {
     "outputs_hidden": true
    },
    "tags": []
   },
   "outputs": [
    {
     "ename": "TypeError",
     "evalue": "'NoneType' object is not iterable",
     "output_type": "error",
     "traceback": [
      "\u001b[0;31m---------------------------------------------------------------------------\u001b[0m",
      "\u001b[0;31mTypeError\u001b[0m                                 Traceback (most recent call last)",
      "\u001b[0;32m/tmp/ipykernel_26615/1395012265.py\u001b[0m in \u001b[0;36m<module>\u001b[0;34m\u001b[0m\n\u001b[1;32m     34\u001b[0m \u001b[0;34m\u001b[0m\u001b[0m\n\u001b[1;32m     35\u001b[0m \"\"\"\n\u001b[0;32m---> 36\u001b[0;31m \u001b[0mjoin_log\u001b[0m \u001b[0;34m=\u001b[0m \u001b[0mpd\u001b[0m\u001b[0;34m.\u001b[0m\u001b[0mread_sql\u001b[0m\u001b[0;34m(\u001b[0m\u001b[0mjoin_sql\u001b[0m\u001b[0;34m,\u001b[0m \u001b[0mconn\u001b[0m\u001b[0;34m)\u001b[0m\u001b[0;34m\u001b[0m\u001b[0;34m\u001b[0m\u001b[0m\n\u001b[0m",
      "\u001b[0;32m~/anaconda3/envs/es_wyp/lib/python3.7/site-packages/pandas/io/sql.py\u001b[0m in \u001b[0;36mread_sql\u001b[0;34m(sql, con, index_col, coerce_float, params, parse_dates, columns, chunksize)\u001b[0m\n\u001b[1;32m    606\u001b[0m             \u001b[0mcoerce_float\u001b[0m\u001b[0;34m=\u001b[0m\u001b[0mcoerce_float\u001b[0m\u001b[0;34m,\u001b[0m\u001b[0;34m\u001b[0m\u001b[0;34m\u001b[0m\u001b[0m\n\u001b[1;32m    607\u001b[0m             \u001b[0mparse_dates\u001b[0m\u001b[0;34m=\u001b[0m\u001b[0mparse_dates\u001b[0m\u001b[0;34m,\u001b[0m\u001b[0;34m\u001b[0m\u001b[0;34m\u001b[0m\u001b[0m\n\u001b[0;32m--> 608\u001b[0;31m             \u001b[0mchunksize\u001b[0m\u001b[0;34m=\u001b[0m\u001b[0mchunksize\u001b[0m\u001b[0;34m,\u001b[0m\u001b[0;34m\u001b[0m\u001b[0;34m\u001b[0m\u001b[0m\n\u001b[0m\u001b[1;32m    609\u001b[0m         )\n\u001b[1;32m    610\u001b[0m \u001b[0;34m\u001b[0m\u001b[0m\n",
      "\u001b[0;32m~/anaconda3/envs/es_wyp/lib/python3.7/site-packages/pandas/io/sql.py\u001b[0m in \u001b[0;36mread_query\u001b[0;34m(self, sql, index_col, coerce_float, params, parse_dates, chunksize, dtype)\u001b[0m\n\u001b[1;32m   2115\u001b[0m         \u001b[0margs\u001b[0m \u001b[0;34m=\u001b[0m \u001b[0m_convert_params\u001b[0m\u001b[0;34m(\u001b[0m\u001b[0msql\u001b[0m\u001b[0;34m,\u001b[0m \u001b[0mparams\u001b[0m\u001b[0;34m)\u001b[0m\u001b[0;34m\u001b[0m\u001b[0;34m\u001b[0m\u001b[0m\n\u001b[1;32m   2116\u001b[0m         \u001b[0mcursor\u001b[0m \u001b[0;34m=\u001b[0m \u001b[0mself\u001b[0m\u001b[0;34m.\u001b[0m\u001b[0mexecute\u001b[0m\u001b[0;34m(\u001b[0m\u001b[0;34m*\u001b[0m\u001b[0margs\u001b[0m\u001b[0;34m)\u001b[0m\u001b[0;34m\u001b[0m\u001b[0;34m\u001b[0m\u001b[0m\n\u001b[0;32m-> 2117\u001b[0;31m         \u001b[0mcolumns\u001b[0m \u001b[0;34m=\u001b[0m \u001b[0;34m[\u001b[0m\u001b[0mcol_desc\u001b[0m\u001b[0;34m[\u001b[0m\u001b[0;36m0\u001b[0m\u001b[0;34m]\u001b[0m \u001b[0;32mfor\u001b[0m \u001b[0mcol_desc\u001b[0m \u001b[0;32min\u001b[0m \u001b[0mcursor\u001b[0m\u001b[0;34m.\u001b[0m\u001b[0mdescription\u001b[0m\u001b[0;34m]\u001b[0m\u001b[0;34m\u001b[0m\u001b[0;34m\u001b[0m\u001b[0m\n\u001b[0m\u001b[1;32m   2118\u001b[0m \u001b[0;34m\u001b[0m\u001b[0m\n\u001b[1;32m   2119\u001b[0m         \u001b[0;32mif\u001b[0m \u001b[0mchunksize\u001b[0m \u001b[0;32mis\u001b[0m \u001b[0;32mnot\u001b[0m \u001b[0;32mNone\u001b[0m\u001b[0;34m:\u001b[0m\u001b[0;34m\u001b[0m\u001b[0;34m\u001b[0m\u001b[0m\n",
      "\u001b[0;31mTypeError\u001b[0m: 'NoneType' object is not iterable"
     ]
    }
   ],
   "source": [
    "\n",
    "join_sql = \"\"\"\n",
    "create table  recsys.search_full_link_30d as\n",
    "select \n",
    "if(trace_log.click_cnt >= 1 ,1,0) as click_label,\n",
    "trace_log.user_id as user_id, trace_log.resource_id as resource_id, trace_log.resource_type as resource_type,\n",
    "user_log.sex as sex, user_log.role as role,user_log.age as age,\n",
    "resource_log.total_show as total_show,\n",
    "resource_log.total_click as total_click,\n",
    "resource_log.total_share as total_share,\n",
    "resource_log.total_vote as total_vote,\n",
    "resource_log.total_collection as total_collection,\n",
    "resource_log.total_comment as total_comment,\n",
    "trace_log.log_date as log_date\n",
    "from\n",
    "(\n",
    "    select log_date, user_id, resource_id, resource_type, sum(if(action_code=1001,1,0)) as click_cnt\n",
    "    from recsys.recommend_event_trace_log where log_date >= '2022-09-06' and event_code = '143001' \n",
    "    group by log_date, user_id, resource_id, resource_type\n",
    "    \n",
    ") trace_log\n",
    "LEFT JOIN \n",
    "(\n",
    "    select resource_id, resource_type,total_show,total_click,total_share,total_vote,total_collection,total_comment\n",
    "    from recsys.dim_resource where log_date = '2022-11-06'\n",
    "\n",
    ") resource_log\n",
    "ON trace_log.resource_id = resource_log.resource_id and trace_log.resource_type = resource_log.resource_type\n",
    "LEFT JOIN\n",
    "(\n",
    "    select id, sex, role, from_unixtime(unix_timestamp(birthday,'yyyyMMdd'),'yyyy-MM-dd')/365 as age \n",
    "    from recsys.dim_user where log_date = '2022-11-06'\n",
    ") user_log\n",
    "ON trace_log.user_id = user_log.id\n",
    "\n",
    "\"\"\"\n",
    "join_log = pd.read_sql(join_sql, conn)\n"
   ]
  },
  {
   "cell_type": "code",
   "execution_count": 44,
   "id": "a39fedcd-d5a6-48a0-b95d-9e20d3b11b40",
   "metadata": {},
   "outputs": [
    {
     "data": {
      "text/html": [
       "<div>\n",
       "<style scoped>\n",
       "    .dataframe tbody tr th:only-of-type {\n",
       "        vertical-align: middle;\n",
       "    }\n",
       "\n",
       "    .dataframe tbody tr th {\n",
       "        vertical-align: top;\n",
       "    }\n",
       "\n",
       "    .dataframe thead th {\n",
       "        text-align: right;\n",
       "    }\n",
       "</style>\n",
       "<table border=\"1\" class=\"dataframe\">\n",
       "  <thead>\n",
       "    <tr style=\"text-align: right;\">\n",
       "      <th></th>\n",
       "      <th>trace_log.user_id</th>\n",
       "      <th>trace_log.resource_id</th>\n",
       "      <th>trace_log.resource_type</th>\n",
       "      <th>click_label</th>\n",
       "      <th>resource_log.total_show</th>\n",
       "      <th>resource_log.total_click</th>\n",
       "      <th>resource_log.total_share</th>\n",
       "      <th>resource_log.total_vote</th>\n",
       "      <th>resource_log.total_collection</th>\n",
       "      <th>resource_log.total_comment</th>\n",
       "      <th>user_log.sex</th>\n",
       "      <th>user_log.role</th>\n",
       "    </tr>\n",
       "  </thead>\n",
       "  <tbody>\n",
       "    <tr>\n",
       "      <th>0</th>\n",
       "      <td>211e5d05-acf1-4417-9bc4-644e935672fd</td>\n",
       "      <td>17384</td>\n",
       "      <td>VIDEO</td>\n",
       "      <td>0</td>\n",
       "      <td>221.0</td>\n",
       "      <td>9.0</td>\n",
       "      <td>0.0</td>\n",
       "      <td>2.0</td>\n",
       "      <td>0.0</td>\n",
       "      <td>0.0</td>\n",
       "      <td>None</td>\n",
       "      <td>2</td>\n",
       "    </tr>\n",
       "    <tr>\n",
       "      <th>1</th>\n",
       "      <td>211e5d05-acf1-4417-9bc4-644e935672fd</td>\n",
       "      <td>105860700000</td>\n",
       "      <td>ARTICLE</td>\n",
       "      <td>0</td>\n",
       "      <td>NaN</td>\n",
       "      <td>NaN</td>\n",
       "      <td>NaN</td>\n",
       "      <td>NaN</td>\n",
       "      <td>NaN</td>\n",
       "      <td>NaN</td>\n",
       "      <td>None</td>\n",
       "      <td>2</td>\n",
       "    </tr>\n",
       "    <tr>\n",
       "      <th>2</th>\n",
       "      <td>211e5d05-acf1-4417-9bc4-644e935672fd</td>\n",
       "      <td>17389</td>\n",
       "      <td>VIDEO</td>\n",
       "      <td>0</td>\n",
       "      <td>3397.0</td>\n",
       "      <td>566.0</td>\n",
       "      <td>0.0</td>\n",
       "      <td>2.0</td>\n",
       "      <td>1.0</td>\n",
       "      <td>0.0</td>\n",
       "      <td>None</td>\n",
       "      <td>2</td>\n",
       "    </tr>\n",
       "    <tr>\n",
       "      <th>3</th>\n",
       "      <td>211e5d05-acf1-4417-9bc4-644e935672fd</td>\n",
       "      <td>32524</td>\n",
       "      <td>NEWS</td>\n",
       "      <td>0</td>\n",
       "      <td>318.0</td>\n",
       "      <td>41.0</td>\n",
       "      <td>4.0</td>\n",
       "      <td>9.0</td>\n",
       "      <td>5.0</td>\n",
       "      <td>0.0</td>\n",
       "      <td>None</td>\n",
       "      <td>2</td>\n",
       "    </tr>\n",
       "    <tr>\n",
       "      <th>4</th>\n",
       "      <td>211e5d05-acf1-4417-9bc4-644e935672fd</td>\n",
       "      <td>34007</td>\n",
       "      <td>NEWS</td>\n",
       "      <td>0</td>\n",
       "      <td>134.0</td>\n",
       "      <td>18.0</td>\n",
       "      <td>5.0</td>\n",
       "      <td>3.0</td>\n",
       "      <td>2.0</td>\n",
       "      <td>0.0</td>\n",
       "      <td>None</td>\n",
       "      <td>2</td>\n",
       "    </tr>\n",
       "    <tr>\n",
       "      <th>...</th>\n",
       "      <td>...</td>\n",
       "      <td>...</td>\n",
       "      <td>...</td>\n",
       "      <td>...</td>\n",
       "      <td>...</td>\n",
       "      <td>...</td>\n",
       "      <td>...</td>\n",
       "      <td>...</td>\n",
       "      <td>...</td>\n",
       "      <td>...</td>\n",
       "      <td>...</td>\n",
       "      <td>...</td>\n",
       "    </tr>\n",
       "    <tr>\n",
       "      <th>1995</th>\n",
       "      <td>61a48041e4b0c46dd4c4175b</td>\n",
       "      <td>20211019616ED055E4B04B33C1B57C9D</td>\n",
       "      <td>CASE</td>\n",
       "      <td>0</td>\n",
       "      <td>21.0</td>\n",
       "      <td>6.0</td>\n",
       "      <td>0.0</td>\n",
       "      <td>5.0</td>\n",
       "      <td>0.0</td>\n",
       "      <td>12.0</td>\n",
       "      <td>1</td>\n",
       "      <td>2</td>\n",
       "    </tr>\n",
       "    <tr>\n",
       "      <th>1996</th>\n",
       "      <td>61a48041e4b0c46dd4c4175b</td>\n",
       "      <td>5710</td>\n",
       "      <td>ONLINE_ACADEMIC</td>\n",
       "      <td>0</td>\n",
       "      <td>11976.0</td>\n",
       "      <td>28.0</td>\n",
       "      <td>0.0</td>\n",
       "      <td>0.0</td>\n",
       "      <td>0.0</td>\n",
       "      <td>0.0</td>\n",
       "      <td>1</td>\n",
       "      <td>2</td>\n",
       "    </tr>\n",
       "    <tr>\n",
       "      <th>1997</th>\n",
       "      <td>61a48041e4b0c46dd4c4175b</td>\n",
       "      <td>201701225884722E0CF28A9589320AB7</td>\n",
       "      <td>CASE</td>\n",
       "      <td>0</td>\n",
       "      <td>9.0</td>\n",
       "      <td>6.0</td>\n",
       "      <td>0.0</td>\n",
       "      <td>2.0</td>\n",
       "      <td>1.0</td>\n",
       "      <td>7.0</td>\n",
       "      <td>1</td>\n",
       "      <td>2</td>\n",
       "    </tr>\n",
       "    <tr>\n",
       "      <th>1998</th>\n",
       "      <td>61a48041e4b0c46dd4c4175b</td>\n",
       "      <td>33973</td>\n",
       "      <td>NEWS</td>\n",
       "      <td>0</td>\n",
       "      <td>5482.0</td>\n",
       "      <td>478.0</td>\n",
       "      <td>327.0</td>\n",
       "      <td>18.0</td>\n",
       "      <td>11.0</td>\n",
       "      <td>3.0</td>\n",
       "      <td>1</td>\n",
       "      <td>2</td>\n",
       "    </tr>\n",
       "    <tr>\n",
       "      <th>1999</th>\n",
       "      <td>61a48041e4b0c46dd4c4175b</td>\n",
       "      <td>66</td>\n",
       "      <td>BANNER_GROUP</td>\n",
       "      <td>0</td>\n",
       "      <td>NaN</td>\n",
       "      <td>NaN</td>\n",
       "      <td>NaN</td>\n",
       "      <td>NaN</td>\n",
       "      <td>NaN</td>\n",
       "      <td>NaN</td>\n",
       "      <td>1</td>\n",
       "      <td>2</td>\n",
       "    </tr>\n",
       "  </tbody>\n",
       "</table>\n",
       "<p>2000 rows × 12 columns</p>\n",
       "</div>"
      ],
      "text/plain": [
       "                         trace_log.user_id             trace_log.resource_id  \\\n",
       "0     211e5d05-acf1-4417-9bc4-644e935672fd                             17384   \n",
       "1     211e5d05-acf1-4417-9bc4-644e935672fd                      105860700000   \n",
       "2     211e5d05-acf1-4417-9bc4-644e935672fd                             17389   \n",
       "3     211e5d05-acf1-4417-9bc4-644e935672fd                             32524   \n",
       "4     211e5d05-acf1-4417-9bc4-644e935672fd                             34007   \n",
       "...                                    ...                               ...   \n",
       "1995              61a48041e4b0c46dd4c4175b  20211019616ED055E4B04B33C1B57C9D   \n",
       "1996              61a48041e4b0c46dd4c4175b                              5710   \n",
       "1997              61a48041e4b0c46dd4c4175b  201701225884722E0CF28A9589320AB7   \n",
       "1998              61a48041e4b0c46dd4c4175b                             33973   \n",
       "1999              61a48041e4b0c46dd4c4175b                                66   \n",
       "\n",
       "     trace_log.resource_type  click_label  resource_log.total_show  \\\n",
       "0                      VIDEO            0                    221.0   \n",
       "1                    ARTICLE            0                      NaN   \n",
       "2                      VIDEO            0                   3397.0   \n",
       "3                       NEWS            0                    318.0   \n",
       "4                       NEWS            0                    134.0   \n",
       "...                      ...          ...                      ...   \n",
       "1995                    CASE            0                     21.0   \n",
       "1996         ONLINE_ACADEMIC            0                  11976.0   \n",
       "1997                    CASE            0                      9.0   \n",
       "1998                    NEWS            0                   5482.0   \n",
       "1999            BANNER_GROUP            0                      NaN   \n",
       "\n",
       "      resource_log.total_click  resource_log.total_share  \\\n",
       "0                          9.0                       0.0   \n",
       "1                          NaN                       NaN   \n",
       "2                        566.0                       0.0   \n",
       "3                         41.0                       4.0   \n",
       "4                         18.0                       5.0   \n",
       "...                        ...                       ...   \n",
       "1995                       6.0                       0.0   \n",
       "1996                      28.0                       0.0   \n",
       "1997                       6.0                       0.0   \n",
       "1998                     478.0                     327.0   \n",
       "1999                       NaN                       NaN   \n",
       "\n",
       "      resource_log.total_vote  resource_log.total_collection  \\\n",
       "0                         2.0                            0.0   \n",
       "1                         NaN                            NaN   \n",
       "2                         2.0                            1.0   \n",
       "3                         9.0                            5.0   \n",
       "4                         3.0                            2.0   \n",
       "...                       ...                            ...   \n",
       "1995                      5.0                            0.0   \n",
       "1996                      0.0                            0.0   \n",
       "1997                      2.0                            1.0   \n",
       "1998                     18.0                           11.0   \n",
       "1999                      NaN                            NaN   \n",
       "\n",
       "      resource_log.total_comment user_log.sex user_log.role  \n",
       "0                            0.0         None             2  \n",
       "1                            NaN         None             2  \n",
       "2                            0.0         None             2  \n",
       "3                            0.0         None             2  \n",
       "4                            0.0         None             2  \n",
       "...                          ...          ...           ...  \n",
       "1995                        12.0            1             2  \n",
       "1996                         0.0            1             2  \n",
       "1997                         7.0            1             2  \n",
       "1998                         3.0            1             2  \n",
       "1999                         NaN            1             2  \n",
       "\n",
       "[2000 rows x 12 columns]"
      ]
     },
     "execution_count": 44,
     "metadata": {},
     "output_type": "execute_result"
    }
   ],
   "source": [
    "join_log"
   ]
  },
  {
   "cell_type": "code",
   "execution_count": 69,
   "id": "6a1f5de2-c913-4c21-b803-e351eb56f156",
   "metadata": {},
   "outputs": [],
   "source": [
    "test_sql = \"\"\"\n",
    "select * from  recsys.search_full_link_30d limit 10\n",
    "\"\"\"\n",
    "test_log = pd.read_sql(test_sql, conn)"
   ]
  },
  {
   "cell_type": "markdown",
   "id": "a4392e3a-b43b-4a08-8c16-952c5b8bceaa",
   "metadata": {},
   "source": [
    "## Redis"
   ]
  },
  {
   "cell_type": "code",
   "execution_count": 123,
   "id": "9f17224d-6cf1-4543-84e6-16e373a8a7f6",
   "metadata": {},
   "outputs": [],
   "source": [
    "import redis\n",
    "\n",
    "env = 'dev'\n",
    "\n",
    "# get environment variable\n",
    "# env = os.getenv('RECSYS_ENV')\n",
    "# logger.info(\"Current environment variable RECSYS_ENV: {env}\".format(env=env))\n",
    "# if env not in ('dev', 'test', 'prod'):\n",
    "#     raise ValueError('The environment variable RECSYS_ENV should be dev/test/prod, got {env}.'.format(env=env))\n",
    "\n",
    "# define redis configuration  47.97.207.88 root Oba.2247d\n",
    "redis_conf = {\n",
    "    'dev': {'host': '172.29.28.203', 'port': 6379, 'password': None},  # 应用算法开发机\n",
    "    'test': {'host': '172.16.68.209', 'port': 6379, 'password': '123456'},  # 测试环境\n",
    "    'prod': {'host': 'r-uf6ojxzvetp1r9m1id.redis.rds.aliyuncs.com', 'port': 6379, 'password': '!@Oba2247d'}  # 阿里云生产环境\n",
    "}\n",
    "# define redis connection\n",
    "host = redis_conf[env]['host']\n",
    "port = redis_conf[env]['port']\n",
    "password = redis_conf[env]['password']\n",
    "r = redis.StrictRedis(host=host, port=port, password=password, decode_responses=True)\n"
   ]
  },
  {
   "cell_type": "code",
   "execution_count": 124,
   "id": "6272307a-5675-4cb4-8793-362fa6e72ef9",
   "metadata": {},
   "outputs": [
    {
     "data": {
      "text/plain": [
       "<bound method BasicKeyCommands.get of Redis<ConnectionPool<Connection<host=172.29.28.203,port=6379,db=0>>>>"
      ]
     },
     "execution_count": 124,
     "metadata": {},
     "output_type": "execute_result"
    }
   ],
   "source": [
    "r.get"
   ]
  },
  {
   "cell_type": "code",
   "execution_count": null,
   "id": "1d7e8b86-ccd4-4360-87f7-7ca545712ca3",
   "metadata": {},
   "outputs": [],
   "source": []
  },
  {
   "cell_type": "code",
   "execution_count": null,
   "id": "7b0e4216-2d2b-437c-ba01-1876e48884d9",
   "metadata": {},
   "outputs": [],
   "source": []
  },
  {
   "cell_type": "code",
   "execution_count": null,
   "id": "324e9c7a-7234-4405-96ed-a52411470af1",
   "metadata": {},
   "outputs": [],
   "source": []
  }
 ],
 "metadata": {
  "kernelspec": {
   "display_name": "es_wyp",
   "language": "python",
   "name": "es_wyp"
  },
  "language_info": {
   "codemirror_mode": {
    "name": "ipython",
    "version": 3
   },
   "file_extension": ".py",
   "mimetype": "text/x-python",
   "name": "python",
   "nbconvert_exporter": "python",
   "pygments_lexer": "ipython3",
   "version": "3.7.13"
  }
 },
 "nbformat": 4,
 "nbformat_minor": 5
}
